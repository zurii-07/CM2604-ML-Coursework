{
  "nbformat": 4,
  "nbformat_minor": 0,
  "metadata": {
    "colab": {
      "provenance": [],
      "mount_file_id": "17nJMe3zRVcslufz3c6221mP10hO9j0oA",
      "authorship_tag": "ABX9TyOxaXgLYGn7oA/2BkBRDJgo",
      "include_colab_link": true
    },
    "kernelspec": {
      "name": "python3",
      "display_name": "Python 3"
    },
    "language_info": {
      "name": "python"
    }
  },
  "cells": [
    {
      "cell_type": "markdown",
      "metadata": {
        "id": "view-in-github",
        "colab_type": "text"
      },
      "source": [
        "<a href=\"https://colab.research.google.com/github/zurii-07/CM2604-ML-Coursework/blob/Develop/ML_CW.ipynb\" target=\"_parent\"><img src=\"https://colab.research.google.com/assets/colab-badge.svg\" alt=\"Open In Colab\"/></a>"
      ]
    },
    {
      "cell_type": "markdown",
      "source": [
        "1. Loading & Exploring the dataset."
      ],
      "metadata": {
        "id": "05TIo20M0TC7"
      }
    },
    {
      "cell_type": "code",
      "source": [
        "from google.colab import drive\n",
        "drive.mount('/content/drive')"
      ],
      "metadata": {
        "colab": {
          "base_uri": "https://localhost:8080/"
        },
        "id": "1gt0HkeA6qS7",
        "outputId": "a8a1880b-896d-4050-8327-2b0d7367317a"
      },
      "execution_count": 2,
      "outputs": [
        {
          "output_type": "stream",
          "name": "stdout",
          "text": [
            "Drive already mounted at /content/drive; to attempt to forcibly remount, call drive.mount(\"/content/drive\", force_remount=True).\n"
          ]
        }
      ]
    },
    {
      "cell_type": "code",
      "source": [
        "import pandas as pd\n",
        "import numpy as np\n",
        "\n",
        "#Loading the dataset.\n",
        "file_path = '/content/drive/MyDrive/ML CW /bank+marketing/bank-additional/bank-additional/bank-additional-full.csv'\n",
        "data = pd.read_csv(file_path, sep=';')\n",
        "\n",
        "#Exploring the dataset\n",
        "print(data.head())\n",
        "print(data.info())\n",
        "print(data.describe())"
      ],
      "metadata": {
        "id": "PprxI0E30Y2J",
        "colab": {
          "base_uri": "https://localhost:8080/"
        },
        "collapsed": true,
        "outputId": "37b94294-9395-4f1c-af0a-086752a243e5"
      },
      "execution_count": 3,
      "outputs": [
        {
          "output_type": "stream",
          "name": "stdout",
          "text": [
            "   age        job  marital    education  default housing loan    contact  \\\n",
            "0   56  housemaid  married     basic.4y       no      no   no  telephone   \n",
            "1   57   services  married  high.school  unknown      no   no  telephone   \n",
            "2   37   services  married  high.school       no     yes   no  telephone   \n",
            "3   40     admin.  married     basic.6y       no      no   no  telephone   \n",
            "4   56   services  married  high.school       no      no  yes  telephone   \n",
            "\n",
            "  month day_of_week  ...  campaign  pdays  previous     poutcome emp.var.rate  \\\n",
            "0   may         mon  ...         1    999         0  nonexistent          1.1   \n",
            "1   may         mon  ...         1    999         0  nonexistent          1.1   \n",
            "2   may         mon  ...         1    999         0  nonexistent          1.1   \n",
            "3   may         mon  ...         1    999         0  nonexistent          1.1   \n",
            "4   may         mon  ...         1    999         0  nonexistent          1.1   \n",
            "\n",
            "   cons.price.idx  cons.conf.idx  euribor3m  nr.employed   y  \n",
            "0          93.994          -36.4      4.857       5191.0  no  \n",
            "1          93.994          -36.4      4.857       5191.0  no  \n",
            "2          93.994          -36.4      4.857       5191.0  no  \n",
            "3          93.994          -36.4      4.857       5191.0  no  \n",
            "4          93.994          -36.4      4.857       5191.0  no  \n",
            "\n",
            "[5 rows x 21 columns]\n",
            "<class 'pandas.core.frame.DataFrame'>\n",
            "RangeIndex: 41188 entries, 0 to 41187\n",
            "Data columns (total 21 columns):\n",
            " #   Column          Non-Null Count  Dtype  \n",
            "---  ------          --------------  -----  \n",
            " 0   age             41188 non-null  int64  \n",
            " 1   job             41188 non-null  object \n",
            " 2   marital         41188 non-null  object \n",
            " 3   education       41188 non-null  object \n",
            " 4   default         41188 non-null  object \n",
            " 5   housing         41188 non-null  object \n",
            " 6   loan            41188 non-null  object \n",
            " 7   contact         41188 non-null  object \n",
            " 8   month           41188 non-null  object \n",
            " 9   day_of_week     41188 non-null  object \n",
            " 10  duration        41188 non-null  int64  \n",
            " 11  campaign        41188 non-null  int64  \n",
            " 12  pdays           41188 non-null  int64  \n",
            " 13  previous        41188 non-null  int64  \n",
            " 14  poutcome        41188 non-null  object \n",
            " 15  emp.var.rate    41188 non-null  float64\n",
            " 16  cons.price.idx  41188 non-null  float64\n",
            " 17  cons.conf.idx   41188 non-null  float64\n",
            " 18  euribor3m       41188 non-null  float64\n",
            " 19  nr.employed     41188 non-null  float64\n",
            " 20  y               41188 non-null  object \n",
            "dtypes: float64(5), int64(5), object(11)\n",
            "memory usage: 6.6+ MB\n",
            "None\n",
            "               age      duration      campaign         pdays      previous  \\\n",
            "count  41188.00000  41188.000000  41188.000000  41188.000000  41188.000000   \n",
            "mean      40.02406    258.285010      2.567593    962.475454      0.172963   \n",
            "std       10.42125    259.279249      2.770014    186.910907      0.494901   \n",
            "min       17.00000      0.000000      1.000000      0.000000      0.000000   \n",
            "25%       32.00000    102.000000      1.000000    999.000000      0.000000   \n",
            "50%       38.00000    180.000000      2.000000    999.000000      0.000000   \n",
            "75%       47.00000    319.000000      3.000000    999.000000      0.000000   \n",
            "max       98.00000   4918.000000     56.000000    999.000000      7.000000   \n",
            "\n",
            "       emp.var.rate  cons.price.idx  cons.conf.idx     euribor3m   nr.employed  \n",
            "count  41188.000000    41188.000000   41188.000000  41188.000000  41188.000000  \n",
            "mean       0.081886       93.575664     -40.502600      3.621291   5167.035911  \n",
            "std        1.570960        0.578840       4.628198      1.734447     72.251528  \n",
            "min       -3.400000       92.201000     -50.800000      0.634000   4963.600000  \n",
            "25%       -1.800000       93.075000     -42.700000      1.344000   5099.100000  \n",
            "50%        1.100000       93.749000     -41.800000      4.857000   5191.000000  \n",
            "75%        1.400000       93.994000     -36.400000      4.961000   5228.100000  \n",
            "max        1.400000       94.767000     -26.900000      5.045000   5228.100000  \n"
          ]
        }
      ]
    },
    {
      "cell_type": "markdown",
      "source": [
        "2. Data Preprocessing"
      ],
      "metadata": {
        "id": "UFygxovnA5nl"
      }
    },
    {
      "cell_type": "code",
      "source": [
        "# 1.Checking for Missing Values.\n",
        "\n",
        "missingValues = data.isnull().sum()\n",
        "print(missingValues)\n",
        "\n",
        "\n",
        "# 2.Dropping missing values.(If there is any)\n",
        "\n",
        "if missingValues.sum() == 0:\n",
        "    print(\"\\n\")\n",
        "    print(\"No missing values found.\")\n",
        "\n",
        "else:\n",
        "    print(missingValues)\n",
        "    data.dropna(inplace=True)\n",
        "    print(\"\\n\")\n",
        "    print(\"Missing values dropped.\")\n",
        "\n",
        "# 3. Encoding Categorical Features.\n",
        "\n",
        "from sklearn.preprocessing import LabelEncoder\n",
        "\n",
        "#Initializing the LabelEncoder for the target variable.\n",
        "label_encoder = LabelEncoder()\n",
        "\n",
        "#Lable encode the target column \"y\"\n",
        "data['y'] = label_encoder.fit_transform(data['y'])\n",
        "\n",
        "#one-hot encode the categorical features\n",
        "categorical_features = ['job', 'marital', 'education', 'default', 'housing', 'loan', 'contact', 'month', 'day_of_week', 'poutcome']\n",
        "data_encoded = pd.get_dummies(data, columns=categorical_features, drop_first=True)\n",
        "\n",
        "#Displaying the processed data\n",
        "print(\"\\n\")\n",
        "print(\"Encoded Data with the first 5 rows: \")\n",
        "print(\"\\n\")\n",
        "print(data_encoded.head())\n"
      ],
      "metadata": {
        "colab": {
          "base_uri": "https://localhost:8080/"
        },
        "id": "8fNAEzx4A_fV",
        "outputId": "eb32e076-81c2-4cf1-8365-1b1a8cee5775"
      },
      "execution_count": 6,
      "outputs": [
        {
          "output_type": "stream",
          "name": "stdout",
          "text": [
            "age               0\n",
            "job               0\n",
            "marital           0\n",
            "education         0\n",
            "default           0\n",
            "housing           0\n",
            "loan              0\n",
            "contact           0\n",
            "month             0\n",
            "day_of_week       0\n",
            "duration          0\n",
            "campaign          0\n",
            "pdays             0\n",
            "previous          0\n",
            "poutcome          0\n",
            "emp.var.rate      0\n",
            "cons.price.idx    0\n",
            "cons.conf.idx     0\n",
            "euribor3m         0\n",
            "nr.employed       0\n",
            "y                 0\n",
            "dtype: int64\n",
            "\n",
            "\n",
            "No missing values found.\n",
            "\n",
            "\n",
            "Encoded Data with the first 5 rows: \n",
            "\n",
            "\n",
            "   age  duration  campaign  pdays  previous  emp.var.rate  cons.price.idx  \\\n",
            "0   56       261         1    999         0           1.1          93.994   \n",
            "1   57       149         1    999         0           1.1          93.994   \n",
            "2   37       226         1    999         0           1.1          93.994   \n",
            "3   40       151         1    999         0           1.1          93.994   \n",
            "4   56       307         1    999         0           1.1          93.994   \n",
            "\n",
            "   cons.conf.idx  euribor3m  nr.employed  ...  month_may  month_nov  \\\n",
            "0          -36.4      4.857       5191.0  ...       True      False   \n",
            "1          -36.4      4.857       5191.0  ...       True      False   \n",
            "2          -36.4      4.857       5191.0  ...       True      False   \n",
            "3          -36.4      4.857       5191.0  ...       True      False   \n",
            "4          -36.4      4.857       5191.0  ...       True      False   \n",
            "\n",
            "   month_oct  month_sep  day_of_week_mon  day_of_week_thu  day_of_week_tue  \\\n",
            "0      False      False             True            False            False   \n",
            "1      False      False             True            False            False   \n",
            "2      False      False             True            False            False   \n",
            "3      False      False             True            False            False   \n",
            "4      False      False             True            False            False   \n",
            "\n",
            "   day_of_week_wed  poutcome_nonexistent  poutcome_success  \n",
            "0            False                  True             False  \n",
            "1            False                  True             False  \n",
            "2            False                  True             False  \n",
            "3            False                  True             False  \n",
            "4            False                  True             False  \n",
            "\n",
            "[5 rows x 54 columns]\n"
          ]
        }
      ]
    },
    {
      "cell_type": "code",
      "source": [],
      "metadata": {
        "id": "J48uE2Yl05H8"
      },
      "execution_count": null,
      "outputs": []
    }
  ]
}